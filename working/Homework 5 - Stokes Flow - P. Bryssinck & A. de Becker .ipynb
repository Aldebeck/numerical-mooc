{
 "cells": [
  {
   "cell_type": "markdown",
   "metadata": {},
   "source": [
    "Le but de ce travail est d'étudier l'écoulement de Stockes, c'est à dire un écoulement dominé par les forces de viscosité, dans une cavité carée dont la surface supérieure se déplace. Pour cela nous partons de l'équation de Navier-Stokes."
   ]
  },
  {
   "cell_type": "markdown",
   "metadata": {},
   "source": [
    "$\\frac{\\partial u}{\\partial t}+u\\cdot \\nabla u = -\\frac{1}{\\rho} \\nabla p+ \\nu \\nabla^2 u$\n"
   ]
  },
  {
   "cell_type": "markdown",
   "metadata": {},
   "source": [
    "Ce qui sous forme non-dimentionnelle s'écrit:"
   ]
  },
  {
   "cell_type": "markdown",
   "metadata": {},
   "source": [
    "$ Re (\\frac{\\partial u}{\\partial t} + u \\cdot \\nabla u) = -\\nabla p + \\nabla^2 u $"
   ]
  },
  {
   "cell_type": "markdown",
   "metadata": {},
   "source": [
    "Où Re est le coefficient de Reynolds, u la vitesse non-dimentional et p la pression non-dimensional. Chercher à résoudre l'écoulement de Stokes revient à prendre un nombre de Reynolds proche de zéro. Nous prenons alors le terme de gauche égal à zéro et prenons le rotationnel de la partie de droite afin d'obtenir: "
   ]
  },
  {
   "cell_type": "markdown",
   "metadata": {
    "collapsed": true
   },
   "source": [
    "$\\nabla^2\\omega=0$"
   ]
  },
  {
   "cell_type": "markdown",
   "metadata": {},
   "source": [
    "où $\\omega$ est la vorticité et vaut $\\omega = \\nabla \\times u$"
   ]
  },
  {
   "cell_type": "markdown",
   "metadata": {},
   "source": [
    "On défini égallement la fonction de courrant $\\psi$ à partir des relations suiantes:"
   ]
  },
  {
   "cell_type": "markdown",
   "metadata": {},
   "source": [
    "$u=\\frac{\\partial\\psi}{\\partial y}$ et $v=\\frac{\\partial \\psi}{\\partial x}$"
   ]
  },
  {
   "cell_type": "markdown",
   "metadata": {},
   "source": [
    "ce qui nous donne:"
   ]
  },
  {
   "cell_type": "markdown",
   "metadata": {},
   "source": [
    "$\\nabla^2 \\psi = - \\omega$"
   ]
  },
  {
   "cell_type": "markdown",
   "metadata": {},
   "source": [
    "Maintenant que nous avons l'équation de Laplace pour $\\omega$ et l'équation de Poisson pour $\\psi$ nous pouvons commencer à écrire notre code."
   ]
  },
  {
   "cell_type": "markdown",
   "metadata": {},
   "source": [
    "Pour commencer nous importons les librairies nécessaires"
   ]
  },
  {
   "cell_type": "code",
   "execution_count": 1,
   "metadata": {
    "collapsed": true
   },
   "outputs": [],
   "source": [
    "from matplotlib import pyplot\n",
    "import numpy\n",
    "%matplotlib inline\n",
    "from matplotlib import rcParams\n",
    "rcParams['font.family'] = 'serif'\n",
    "rcParams['font.size'] = 16\n"
   ]
  },
  {
   "cell_type": "markdown",
   "metadata": {},
   "source": [
    "Nous définissons la taille de la cavité, et la taille des pas qui seront utilisés pour la discrétisation de notre problème, ainsi que la précision que nous voulons pour notre état relaxé. "
   ]
  },
  {
   "cell_type": "code",
   "execution_count": 2,
   "metadata": {
    "collapsed": true
   },
   "outputs": [],
   "source": [
    "nx = 41\n",
    "ny = 41\n",
    "\n",
    "l = 1.\n",
    "h = 1.\n",
    "\n",
    "dx = l/(nx-1)\n",
    "dy = h/(ny-1)\n",
    "\n",
    "l1_target = 1e-6\n"
   ]
  },
  {
   "cell_type": "markdown",
   "metadata": {},
   "source": [
    "Nous avons une fonction qui nous permettera de faire nos calculs jusqu'à avoir atteind la précison désirée. "
   ]
  },
  {
   "cell_type": "code",
   "execution_count": 3,
   "metadata": {
    "collapsed": true
   },
   "outputs": [],
   "source": [
    "def L1norm(new, old):\n",
    "    norm = numpy.sum(numpy.abs(new-old))\n",
    "    return norm\n"
   ]
  },
  {
   "cell_type": "markdown",
   "metadata": {},
   "source": [
    "Notre équation de Laplace se discrétise de la manière suivante:"
   ]
  },
  {
   "cell_type": "markdown",
   "metadata": {},
   "source": [
    "$\\frac{\\omega_{i+1,j}-2\\omega_{i,j}+\\omega_{i-1,j}}{dx^2}+\\frac{\\omega_{i,j+1}-2\\omega_{i,j}+\\omega_{i,j-1}}{dy^2} =0$"
   ]
  },
  {
   "cell_type": "markdown",
   "metadata": {},
   "source": [
    "En isolant la partie qui nous intéresse on obtient: "
   ]
  },
  {
   "cell_type": "markdown",
   "metadata": {},
   "source": [
    "$\\omega_{i,j}=\\frac{dy^2(\\omega_{i+1,j}+\\omega_{i-1,j})+dx^2(\\omega_{i,j+1}+\\omega_{i,j-1})}{2dx^2+2dy^2}$"
   ]
  },
  {
   "cell_type": "markdown",
   "metadata": {},
   "source": [
    "Maintenant discrétisons l'équation de Poisson:"
   ]
  },
  {
   "cell_type": "markdown",
   "metadata": {},
   "source": [
    "$\\frac{\\psi_{i+1,j}-2\\psi_{i,j}+\\psi_{i-1,j}}{dx^2}+\\frac{\\psi_{i,j+1}-2\\psi_{i,j}+\\psi_{i,j-1}}{dy^2} =-\\omega_{i,j}$"
   ]
  },
  {
   "cell_type": "markdown",
   "metadata": {},
   "source": [
    "En isolant la partie qui nous intéresse on obtient:"
   ]
  },
  {
   "cell_type": "markdown",
   "metadata": {},
   "source": [
    "$\\psi_{i,j}=\\frac{dy^2(\\psi_{i+1,j}+\\psi_{i-1,j})+dx^2(\\psi_{i,j+1}+\\psi_{i,j-1})+\\omega_{i,j}dx^2dy^2}{2dx^2+2dy^2}$"
   ]
  },
  {
   "cell_type": "markdown",
   "metadata": {},
   "source": [
    "Pour les conditions aux bords nous avons les équations suivantes: "
   ]
  },
  {
   "cell_type": "markdown",
   "metadata": {},
   "source": [
    "$\\omega_{i,ny-1}=-\\frac{1}{2 dy^2}(8 \\psi_{i,ny-2}-\\psi_{i,ny-3})-\\frac{1}{dy}$ pour le bord supérieur"
   ]
  },
  {
   "cell_type": "markdown",
   "metadata": {},
   "source": [
    "$\\omega_{0,j}=-\\frac{1}{2 dy^2}(8 \\psi_{1,j}-\\psi_{2,j})$ pour le coté droit"
   ]
  },
  {
   "cell_type": "markdown",
   "metadata": {},
   "source": [
    "$\\omega_{nx-1,j}=-\\frac{1}{2 dy^2}(8 \\psi_{nx-2,j}-\\psi_{nx-3,j})$ pour le coté gauche"
   ]
  },
  {
   "cell_type": "markdown",
   "metadata": {},
   "source": [
    "$\\omega_{i,0}=-\\frac{1}{2 dy^2}(8 \\psi_{i,1}-\\psi_{i,2})$ pour le bord inférieur"
   ]
  },
  {
   "cell_type": "markdown",
   "metadata": {},
   "source": [
    "Nous appliquons alors notre équation de Laplace, notre équation de Poisson et nos conditions aux bord sur notre cavitée jusqu'à obtenir un état suffisament relaxé, ce qui se traduit par le code suivant:"
   ]
  },
  {
   "cell_type": "code",
   "execution_count": 4,
   "metadata": {
    "collapsed": false
   },
   "outputs": [],
   "source": [
    "omega=numpy.zeros((ny,nx))\n",
    "psy=numpy.zeros((ny,nx))\n",
    "omegac=omega.copy()\n",
    "psyc=psy.copy()\n",
    "\n",
    "normO,normP=10,10\n",
    "while normO>l1_target or normP>l1_target:\n",
    "    \n",
    "    #print(omega)\n",
    "    omegac[1:-1,1:-1]=(dy**2*(omega[1:-1,2:]+omega[1:-1,0:-2])+dx**2*(omega[2:,1:-1]+omega[0:-2,1:-1]))/(2*dx**2+2*dy**2)\n",
    "    \n",
    "    omegac[ny-1,:]=-(1/(2*dy**2))*(8*psy[ny-2,:]-psy[ny-3,:])-3/dy #bord sup\n",
    "    omegac[0,:]=-(1/(2*dy**2))*(8*psy[1,:]-psy[2,:]) #bord inf\n",
    "    omegac[:,0]=-(1/(2*dx**2))*(8*psy[:,1]-psy[:,2])\n",
    "    omegac[:,nx-1]=-(1/(2*dx**2))*(8*psy[:,nx-2]-psy[:,nx-3])\n",
    "    \n",
    "    psyc[1:-1,1:-1]=(dy**2*(psy[1:-1,2:]+psy[1:-1,0:-2])+dx**2*(psy[2:,1:-1]\\\n",
    "                                        +psy[0:-2,1:-1])+omegac[1:-1,1:-1]*dx**2*dy**2)/(2*(dx**2+dy**2))\n",
    "    #print(omega)\n",
    "    normO=L1norm(omegac,omega)\n",
    "    normP=L1norm(psyc,psy)\n",
    "    \n",
    "    omega=omegac.copy()\n",
    "    psy=psyc.copy()"
   ]
  },
  {
   "cell_type": "markdown",
   "metadata": {},
   "source": [
    "Une fois relaxé, le système ressemble à ce qui suit:"
   ]
  },
  {
   "cell_type": "code",
   "execution_count": 5,
   "metadata": {
    "collapsed": false
   },
   "outputs": [
    {
     "data": {
      "text/plain": [
       "<matplotlib.contour.QuadContourSet at 0x861be10>"
      ]
     },
     "execution_count": 5,
     "metadata": {},
     "output_type": "execute_result"
    },
    {
     "data": {
      "image/png": "[encoded data removed]",
      "text/plain": [
       "<matplotlib.figure.Figure at 0x3e2fcf8>"
      ]
     },
     "metadata": {},
     "output_type": "display_data"
    }
   ],
   "source": [
    "x=numpy.arange(0,1,1/nx)\n",
    "y=numpy.arange(0,1,1/ny)\n",
    "pyplot.contourf(x,y,psy,100)"
   ]
  },
  {
   "cell_type": "markdown",
   "metadata": {},
   "source": [
    "Le graphe semble correspondre à ce que nous voulions, pour vérifier nos résultats nous faisons les petits tests proposés."
   ]
  },
  {
   "cell_type": "code",
   "execution_count": 6,
   "metadata": {
    "collapsed": false
   },
   "outputs": [],
   "source": [
    "omegaplus=numpy.abs(omega)\n",
    "psyplus=numpy.abs(psy)"
   ]
  },
  {
   "cell_type": "code",
   "execution_count": 7,
   "metadata": {
    "collapsed": false
   },
   "outputs": [
    {
     "name": "stdout",
     "output_type": "stream",
     "text": [
      "78.1926612286\n",
      "0.0998451724383\n"
     ]
    }
   ],
   "source": [
    "print (numpy.max(omegaplus))\n",
    "print (numpy.max(psyplus))"
   ]
  },
  {
   "cell_type": "code",
   "execution_count": 8,
   "metadata": {
    "collapsed": false
   },
   "outputs": [
    {
     "data": {
      "text/plain": [
       "array([ 0.    , -0.0575, -0.0944, -0.0944, -0.0575,  0.    ])"
      ]
     },
     "execution_count": 8,
     "metadata": {},
     "output_type": "execute_result"
    }
   ],
   "source": [
    "numpy.round(psy[32,::8], 4)"
   ]
  },
  {
   "cell_type": "markdown",
   "metadata": {
    "collapsed": true
   },
   "source": [
    "Une fois de plus nous obtenons les résultats attendus. "
   ]
  },
  {
   "cell_type": "markdown",
   "metadata": {},
   "source": [
    "Nous pouvons voir par le test numérique ainsi que par le graphe, que la cuve fini par se relaxer dans un état symétrique. On peut en conclure que l'écoulement de Stokes préserve la symétrie initiale du problème. On voit sur le graphe grâce aux couleurs, que la fonction de courant reste nulle sur les bord et que se forment des zones équipotentielles concentriques. Le déplacement du fluide doit effectivement être nul le long d'une paroi. On voir que là où la cuve est le plus affectée, c'est en haut, là où la plaque bougeait. "
   ]
  },
  {
   "cell_type": "code",
   "execution_count": null,
   "metadata": {
    "collapsed": true
   },
   "outputs": [],
   "source": []
  }
 ],
 "metadata": {
  "anaconda-cloud": {},
  "kernelspec": {
   "display_name": "Python [conda root]",
   "language": "python",
   "name": "conda-root-py"
  },
  "language_info": {
   "codemirror_mode": {
    "name": "ipython",
    "version": 3
   },
   "file_extension": ".py",
   "mimetype": "text/x-python",
   "name": "python",
   "nbconvert_exporter": "python",
   "pygments_lexer": "ipython3",
   "version": "3.5.2"
  }
 },
 "nbformat": 4,
 "nbformat_minor": 0
}
